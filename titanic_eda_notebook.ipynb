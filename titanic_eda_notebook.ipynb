{
 "cells": [
  {
   "cell_type": "markdown",
   "id": "8a548fdf",
   "metadata": {},
   "source": [
    "# Titanic Dataset Exploratory Data Analysis\n",
    "*Date: 2025-06-09*"
   ]
  },
  {
   "cell_type": "code",
   "execution_count": null,
   "id": "457f4e3f",
   "metadata": {},
   "outputs": [],
   "source": [
    "import pandas as pd\n",
    "import seaborn as sns\n",
    "import matplotlib.pyplot as plt\n",
    "sns.set(style=\"whitegrid\")\n",
    "plt.rcParams[\"figure.figsize\"] = (10, 6)\n",
    "\n",
    "df = pd.read_csv(\"train.csv\")\n",
    "df.info()"
   ]
  },
  {
   "cell_type": "code",
   "execution_count": null,
   "id": "5409149e",
   "metadata": {},
   "outputs": [],
   "source": [
    "df.describe(include='all')"
   ]
  },
  {
   "cell_type": "code",
   "execution_count": null,
   "id": "ec447440",
   "metadata": {},
   "outputs": [],
   "source": [
    "sns.histplot(df['Age'].dropna(), kde=True, bins=30)\n",
    "plt.title('Distribution of Age')\n",
    "plt.xlabel('Age')\n",
    "plt.ylabel('Count')\n",
    "plt.show()"
   ]
  },
  {
   "cell_type": "markdown",
   "id": "bd645571",
   "metadata": {},
   "source": [
    "**Observation:** The Age distribution is right-skewed, with most passengers between 20 and 40 years old."
   ]
  },
  {
   "cell_type": "code",
   "execution_count": null,
   "id": "a9cd91dc",
   "metadata": {},
   "outputs": [],
   "source": [
    "sns.boxplot(x='Survived', y='Age', data=df)\n",
    "plt.title('Age Distribution by Survival')\n",
    "plt.xlabel('Survived')\n",
    "plt.ylabel('Age')\n",
    "plt.show()"
   ]
  },
  {
   "cell_type": "markdown",
   "id": "37302e92",
   "metadata": {},
   "source": [
    "**Observation:** Survivors tended to be younger on average than non-survivors. Outliers exist in both groups."
   ]
  },
  {
   "cell_type": "code",
   "execution_count": null,
   "id": "ed84b5d6",
   "metadata": {},
   "outputs": [],
   "source": [
    "sns.countplot(x='Sex', hue='Survived', data=df)\n",
    "plt.title('Survival Count by Sex')\n",
    "plt.xlabel('Sex')\n",
    "plt.ylabel('Count')\n",
    "plt.show()"
   ]
  },
  {
   "cell_type": "markdown",
   "id": "db0e223b",
   "metadata": {},
   "source": [
    "**Observation:** Females had a significantly higher survival rate compared to males."
   ]
  },
  {
   "cell_type": "code",
   "execution_count": null,
   "id": "6cadd597",
   "metadata": {},
   "outputs": [],
   "source": [
    "sns.heatmap(df[['Survived', 'Pclass', 'Age', 'SibSp', 'Parch', 'Fare']].corr(), annot=True, cmap='coolwarm')\n",
    "plt.title('Correlation Heatmap')\n",
    "plt.show()"
   ]
  },
  {
   "cell_type": "markdown",
   "id": "4469f7db",
   "metadata": {},
   "source": [
    "**Observation:** Fare and Pclass are moderately correlated with survival. SibSp and Parch show weaker relationships."
   ]
  },
  {
   "cell_type": "code",
   "execution_count": null,
   "id": "d093f4a7",
   "metadata": {},
   "outputs": [],
   "source": [
    "df['Survived'] = pd.to_numeric(df['Survived'], errors='coerce')\n",
    "df['Pclass'] = pd.to_numeric(df['Pclass'], errors='coerce')\n",
    "df['Age'] = pd.to_numeric(df['Age'], errors='coerce')\n",
    "df['Fare'] = pd.to_numeric(df['Fare'], errors='coerce')\n",
    "clean_df = df[['Survived', 'Pclass', 'Age', 'Fare']].dropna()\n",
    "clean_df['Survived'] = clean_df['Survived'].astype(int)\n",
    "\n",
    "sns.pairplot(clean_df, hue='Survived', palette='husl', diag_kind='hist')\n",
    "plt.suptitle('Pairplot of Selected Features by Survival', y=1.02)\n",
    "plt.show()"
   ]
  },
  {
   "cell_type": "markdown",
   "id": "0ff27351",
   "metadata": {},
   "source": [
    "**Observation:** Survival is visually separable based on Pclass and Fare; Age has a slight separation."
   ]
  },
  {
   "cell_type": "markdown",
   "id": "f8e76e35",
   "metadata": {},
   "source": [
    "## Summary of Findings\n",
    "\n",
    "- **Age:** Younger passengers had a higher survival rate.\n",
    "- **Sex:** Females had a much better survival outcome than males.\n",
    "- **Pclass & Fare:** Higher class and fare were associated with survival.\n",
    "- **Correlations:** `Pclass`, `Fare`, and `Age` showed relevant relationships with survival.\n",
    "\n",
    "This analysis offers foundational insights useful for modeling Titanic survival."
   ]
  }
 ],
 "metadata": {},
 "nbformat": 4,
 "nbformat_minor": 5
}